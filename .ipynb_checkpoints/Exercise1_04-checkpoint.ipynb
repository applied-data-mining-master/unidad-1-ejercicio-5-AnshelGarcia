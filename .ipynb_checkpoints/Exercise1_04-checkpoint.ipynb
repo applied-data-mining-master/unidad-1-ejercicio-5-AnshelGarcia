{
 "cells": [
  {
   "cell_type": "markdown",
   "metadata": {},
   "source": [
    "# Exercise 1.04: Tic-Tac-Toe Static Evaluation with a Heuristic Function\n",
    "In this exercise, you will be performing a static evaluation on the tic-tac-toe game using a heuristic function."
   ]
  },
  {
   "cell_type": "markdown",
   "metadata": {},
   "source": [
    "1.- Reuse the code from Steps 1–5 of Activity 1.01"
   ]
  },
  {
   "cell_type": "code",
   "execution_count": 2,
   "metadata": {},
   "outputs": [
    {
     "name": "stdout",
     "output_type": "stream",
     "text": [
      " \n",
      "O - -\n",
      "- - -\n",
      "- - -\n",
      " \n",
      "Ingrese la fila: 1\n",
      "Ingrese la columna: 1\n",
      " \n",
      "O - -\n",
      "- - -\n",
      "- - -\n",
      " \n",
      "Ingrese la fila: 2\n",
      "Ingrese la columna: 1\n",
      " \n",
      "O - -\n",
      "X - -\n",
      "- - -\n",
      " \n",
      " \n",
      "O - -\n",
      "X - -\n",
      "O - -\n",
      " \n",
      "Ingrese la fila: 2\n",
      "Ingrese la columna: 2\n",
      " \n",
      "O - -\n",
      "X X -\n",
      "O - -\n",
      " \n",
      " \n",
      "O - O\n",
      "X X -\n",
      "O - -\n",
      " \n",
      "Ingrese la fila: 2\n",
      "Ingrese la columna: 3\n",
      " \n",
      "O - O\n",
      "X X X\n",
      "O - -\n",
      " \n",
      "El juego termninó.\n"
     ]
    }
   ],
   "source": [
    "from random import choice\n",
    "\n",
    "pos = [[0, 1, 2], [3, 4, 5], [6, 7, 8], [0, 3, 6], [1, 4, 7], [2, 5, 8], [0, 4, 8], [2, 4, 6]]\n",
    "emptycells = '-';\n",
    "ai = 'O';\n",
    "player = 'X';\n",
    "\n",
    "def printBoard(B):\n",
    "    print(\" \")\n",
    "    print(' '.join(B[:3]))\n",
    "    print(' '.join(B[3:6]))\n",
    "    print(' '.join(B[6:]))\n",
    "    print(\" \")\n",
    "    return B\n",
    "\n",
    "def move_player (B, fila, columna):\n",
    "    i = 3 * (fila -1) + (columna -1)\n",
    "    if B[i] == emptycells:\n",
    "        return B[:i] + player + B[i+1:]\n",
    "    return B\n",
    "\n",
    "def all_moves_from_board(B, a):\n",
    "    lista = []\n",
    "    for i, m in enumerate(B):\n",
    "        if m == emptycells:\n",
    "            lista.append(B[:i] + a + B[i+1:])\n",
    "    return lista\n",
    "\n",
    "def movimientos(B):\n",
    "    return choice(all_moves_from_board(B, ai))\n",
    "\n",
    "def game_won_by(B):\n",
    "    for i in pos:\n",
    "        if B[i[0]] == B[i[1]] == B[i[2]] != emptycells:\n",
    "            return B[i[0]]\n",
    "    return emptycells\n",
    "\n",
    "def game_loop():\n",
    "    B = emptycells * 9\n",
    "    contador = 9\n",
    "    fin = False\n",
    "    \n",
    "    while contador > 0 and not fin:\n",
    "        if contador % 2 == 1:\n",
    "            B = movimientos(B)\n",
    "        else:\n",
    "            fila = int(input('Ingrese la fila: '))\n",
    "            columna = int(input('Ingrese la columna: '))\n",
    "            B = move_player(B, fila, columna)\n",
    "        printBoard(B)\n",
    "        fin = game_won_by(B) != emptycells\n",
    "        contador = sum(1 for cell in B if cell == emptycells)\n",
    "    print('El juego termninó.')\n",
    "    \n",
    "game_loop()\n",
    "\n",
    "def all_moves_from_board_list(listaB, v):\n",
    "    movimientos = []\n",
    "    for B in listaB:\n",
    "        movimientos.extend(all_moves_from_board(board, v))\n",
    "    return movimientos\n",
    "\n",
    "B = emptycells * 9\n",
    "tm = all_moves_from_board(B, ai )\n",
    "tm\n",
    "\n",
    "def filter_wins(movimientos, c_g, p_g):\n",
    "    for B in movimientos:\n",
    "        g = gg(B)\n",
    "        if g == ai:\n",
    "            c_g.append(B)\n",
    "            movimientos.remove(B)\n",
    "        elif g == player:\n",
    "            p_g.append(B)\n",
    "            movimientos.remove(B)\n",
    "\n",
    "def count_possibilities():\n",
    "    B = emptycells * 9\n",
    "    movimientos = [B]\n",
    "    c_g = []\n",
    "    p_g = []\n",
    "    for i in range(9):\n",
    "        print('Paso ' + str(i) + '. Movimientos: ' + str(len(movimientos)))\n",
    "        v = ai if i % 2 == 0 else player\n",
    "        movimientos = all_moves_from_board_list(movimientos, v)\n",
    "        filter_wins(movimientos, c_g, p_g)\n",
    "    print('Ganó el jugador 1: ' + str(len(c_g)))\n",
    "    print('Ganó el jugador 2: ' + str(len(p_g)))\n",
    "    print('Colocados', str(len(movimientos)))\n",
    "    print('Total', str(len(c_g) + len(p_g) + len(movimientos)))\n",
    "    return len(c_g), len(p_g), len(movimientos), len(c_g) + len(p_g) + len(movimientos)"
   ]
  },
  {
   "cell_type": "markdown",
   "metadata": {},
   "source": [
    "2.- Create a function that takes the board as input and returns $0$ if the cell is empty, and $-1$ if it's not empty"
   ]
  },
  {
   "cell_type": "code",
   "execution_count": 3,
   "metadata": {},
   "outputs": [],
   "source": [
    "def board_input(B):\n",
    "    return [0 if c == emptycells else -1 for c in B]"
   ]
  },
  {
   "cell_type": "markdown",
   "metadata": {},
   "source": [
    "3.- Create a function that takes the utility vector of possible moves, takes three indices inside the utility vector representing a triple, and returns a function.\n",
    "\n",
    "  > **Hints**  \n",
    "  > the returned function will expect a `points` parameter and the `utilities` vector as input and will add points to each cell in $(i, j, k)$, as long as the original value of that cell is non-negative $(>=0)$. In other words, we increased the utility of empty cells only."
   ]
  },
  {
   "cell_type": "code",
   "execution_count": 4,
   "metadata": {},
   "outputs": [],
   "source": [
    "def puntaje(u, i, j, k):\n",
    "    def ap(puntos):\n",
    "        if u[i] >= 0:\n",
    "            u[i] += puntos\n",
    "        if u[j] >= 0:\n",
    "            u[j] += puntos\n",
    "        if u[k] >= 0:\n",
    "            u[k] += puntos\n",
    "    return ap"
   ]
  },
  {
   "cell_type": "markdown",
   "metadata": {},
   "source": [
    "4.- Now, create the utility matrix belonging to any board constellation where you will add the `generate_add_score` function defined previously to update the score. You will also implement the rules that we discussed prior to this activity. These rules are as follows:\n",
    "  * Two AI signs in a row, column, or diagonal, and the third cell is empty: +1000 for the empty cell.\n",
    "  * The opponent has two signs in a row, column, or diagonal, and the third cell is empty: +100 for the empty cell.\n",
    "  * One AI sign in a row, column, or diagonal, and the other two cells are empty: +10 for the empty cells.\n",
    "  * No AI or opponent signs in a row, column, or diagonal: +1 for the empty cells."
   ]
  },
  {
   "cell_type": "code",
   "execution_count": 6,
   "metadata": {},
   "outputs": [
    {
     "ename": "IndentationError",
     "evalue": "unindent does not match any outer indentation level (<tokenize>, line 15)",
     "output_type": "error",
     "traceback": [
      "\u001b[1;36m  File \u001b[1;32m\"<tokenize>\"\u001b[1;36m, line \u001b[1;32m15\u001b[0m\n\u001b[1;33m    return u\u001b[0m\n\u001b[1;37m    ^\u001b[0m\n\u001b[1;31mIndentationError\u001b[0m\u001b[1;31m:\u001b[0m unindent does not match any outer indentation level\n"
     ]
    }
   ],
   "source": [
    "def utility_matrix(B):\n",
    "    u = um(B)\n",
    "    for [i, j, k] in ci:\n",
    "        ap = puntaje(u, i, j, k)\n",
    "        tr = [B[i], B[j], B[k]]\n",
    "        if tr.count(emptycells) == 1:\n",
    "            if tr.count(ai) == 2:\n",
    "                ap(1000)\n",
    "            elif tr.count(player) == 2:\n",
    "                ap(100)\n",
    "        elif tr.count(emptycells) == 2 and tr.count(ai) == 1:\n",
    "            ap(10)\n",
    "        elif tr.count(emptycells) == 3:\n",
    "            ap(1)\n",
    "     return u"
   ]
  },
  {
   "cell_type": "markdown",
   "metadata": {},
   "source": [
    "5.- Create a function that selects the move with the highest utility value. If multiple moves have the same utility, the function returns both moves"
   ]
  },
  {
   "cell_type": "code",
   "execution_count": null,
   "metadata": {},
   "outputs": [],
   "source": [
    "def best_moves(B, s):\n",
    "    movimientos = []\n",
    "    u = um(B)\n",
    "    mu = max(u)\n",
    "    for i, a in enumerate(B):\n",
    "        if u[i] == mu:\n",
    "            movimientos.append(B[:i] + s + B[i+1:])\n",
    "    return movimientos\n",
    "\n",
    "def all_moves_from_board_list(board_list, s):\n",
    "    movimientos = []\n",
    "    gm = best_moves if s == ai else all_moves_from_board\n",
    "    for B in board_list:\n",
    "        movimientos.extend(gm(B, s))\n",
    "    return movimientos"
   ]
  },
  {
   "cell_type": "markdown",
   "metadata": {},
   "source": [
    "6.- Run the application.\n",
    "\n",
    "Output:\n",
    "\n",
    "```\n",
    "step 0. Moves: 1\n",
    "step 1. Moves: 1\n",
    "step 2. Moves: 8\n",
    "step 3. Moves: 24\n",
    "step 4. Moves: 144\n",
    "step 5. Moves: 83\n",
    "step 6. Moves: 214\n",
    "step 7. Moves: 148\n",
    "step 8. Moves: 172\n",
    "First player wins: 504\n",
    "Second player wins: 12\n",
    "Draw 91\n",
    "Total 607\n",
    "```"
   ]
  },
  {
   "cell_type": "code",
   "execution_count": null,
   "metadata": {},
   "outputs": [],
   "source": [
    "jugador1, jugador2, col, total = count_possibilities()"
   ]
  },
  {
   "cell_type": "markdown",
   "metadata": {},
   "source": [
    "By completing this exercise, we have observed that the AI is underperforming compared to our previous activity, Activity 1.03, Fixing the First and Second Moves of the AI to Make It Invincible. In this situation, hardcoding the first two moves was better than setting up the heuristic, but this is because we haven't set up the heuristic properly."
   ]
  },
  {
   "cell_type": "code",
   "execution_count": null,
   "metadata": {},
   "outputs": [],
   "source": []
  }
 ],
 "metadata": {
  "kernelspec": {
   "display_name": "Python 3",
   "language": "python",
   "name": "python3"
  },
  "language_info": {
   "codemirror_mode": {
    "name": "ipython",
    "version": 3
   },
   "file_extension": ".py",
   "mimetype": "text/x-python",
   "name": "python",
   "nbconvert_exporter": "python",
   "pygments_lexer": "ipython3",
   "version": "3.8.5"
  }
 },
 "nbformat": 4,
 "nbformat_minor": 4
}
