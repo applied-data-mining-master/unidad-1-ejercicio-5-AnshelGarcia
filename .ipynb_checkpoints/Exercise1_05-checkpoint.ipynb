{
 "cells": [
  {
   "cell_type": "markdown",
   "metadata": {},
   "source": [
    "# Exercise 1.05: Finding the Shortest Path Using BFS\n",
    "\n",
    "In this exercise, we will be finding the shortest path to our goal using the BFS algorithm."
   ]
  },
  {
   "cell_type": "markdown",
   "metadata": {},
   "source": [
    "1.- Begin by importing the math library"
   ]
  },
  {
   "cell_type": "code",
   "execution_count": 7,
   "metadata": {},
   "outputs": [],
   "source": [
    "import math"
   ]
  },
  {
   "cell_type": "markdown",
   "metadata": {},
   "source": [
    "2.- Describe the board of the Figure 1.14, the initial state, and the final state using Python.\n",
    "\n",
    "  > **Hints**  \n",
    "  >  * Create a function that returns a list of possible successors. Use tuples, where the first coordinate denotes the row number from $1$ to $7$ and the second coordinate denotes the column number from $1$ to $9$. Then use array comprehension to generate the successor states.\n",
    "  >  * The function generate all the possible moves from a current field that does not end up being blocked by an obstacle. Also add a filter to exclude moves that return to a field visited already to avoid infinite loops.\n",
    "  "
   ]
  },
  {
   "cell_type": "code",
   "execution_count": 8,
   "metadata": {},
   "outputs": [],
   "source": [
    "tamaño = (7, 9)\n",
    "inicio = (5, 3)\n",
    "fin = (6, 9)\n",
    "obs = {(3, 4), (3, 5), (3, 6), (3, 7), (3, 8), (4, 5), (5, 5), (5, 7), (5, 9), (6, 2), (6, 3), (6, 4), (6, 5), (6, 7),(7, 7)}\n",
    "\n",
    "def successors(es, n_v):\n",
    "    (fila, colu) = es\n",
    "    (fila_max, colu_max) = tamaño\n",
    "    estados = []\n",
    "    if fila > 1:\n",
    "        estados += [(fila-1, colu)]\n",
    "    if colu > 1:\n",
    "        estados += [(fila, colu-1)]\n",
    "    if fila < fila_max:\n",
    "        estados += [(fila+1, colu)]\n",
    "    if colu < colu_max:\n",
    "        estados += [(fila, colu+1)]\n",
    "    return [i for i in estados if i not in n_v if i not in obs]"
   ]
  },
  {
   "cell_type": "markdown",
   "metadata": {},
   "source": [
    "3.-  Implement the initial costs"
   ]
  },
  {
   "cell_type": "code",
   "execution_count": 9,
   "metadata": {},
   "outputs": [],
   "source": [
    "def initialize_costs(tamaño, inicio):\n",
    "    (h, w) = tamaño\n",
    "    c = [[math.inf] * w for i in range(h)]\n",
    "    (x, y) = inicio\n",
    "    c[x-1][y-1] = 0\n",
    "    return c"
   ]
  },
  {
   "cell_type": "markdown",
   "metadata": {},
   "source": [
    "4.- Implement the updated costs using `costs`, `current_node`, and `successor_node`"
   ]
  },
  {
   "cell_type": "code",
   "execution_count": 10,
   "metadata": {},
   "outputs": [],
   "source": [
    "def update_costs(c, c_n, s_n):\n",
    "    n_c = c[c_n[0]-1]\\\n",
    "               [c_n[1]-1] + 1\n",
    "    for (x, y) in s_n:\n",
    "        c[x-1][y-1] = min(c[x-1][y-1], n_c)"
   ]
  },
  {
   "cell_type": "markdown",
   "metadata": {},
   "source": [
    "5.- Finally, implement the BFS algorithm to search the state of the tree and save the result in a variable called `bfs`.\n",
    "\n",
    "  > **Hints**  \n",
    "  > You can reuse the `bfs_tree` function that we looked at earlier in the Breadth First Search section. However, add the `update_costs` function to update the costs.\n",
    "\n",
    "The expected output is this:\n",
    "\n",
    "```\n",
    "[[6, 5, 4, 5, 6, 7, 8, 9, 10],\n",
    " [5, 4, 3, 4, 5, 6, 7, 8, 9],\n",
    " [4, 3, 2, inf, inf, inf, inf, inf, 10],\n",
    " [3, 2, 1, 2, inf, 12, 13, 12, 11],\n",
    " [2, 1, 0, 1, inf, 11, inf, 13, inf],\n",
    " [3, inf, inf, inf, inf, 10, inf, 14, 15],\n",
    " [4, 5, 6, 7, 8, 9, inf, 15, 16]]\n",
    "```"
   ]
  },
  {
   "cell_type": "code",
   "execution_count": 11,
   "metadata": {},
   "outputs": [
    {
     "data": {
      "text/plain": [
       "[[6, 5, 4, 5, 6, 7, 8, 9, 10],\n",
       " [5, 4, 3, 4, 5, 6, 7, 8, 9],\n",
       " [4, 3, 2, inf, inf, inf, inf, inf, 10],\n",
       " [3, 2, 1, 2, inf, 12, 13, 12, 11],\n",
       " [2, 1, 0, 1, inf, 11, inf, 13, inf],\n",
       " [3, inf, inf, inf, inf, 10, inf, 14, 15],\n",
       " [4, 5, 6, 7, 8, 9, inf, 15, 16]]"
      ]
     },
     "execution_count": 11,
     "metadata": {},
     "output_type": "execute_result"
    }
   ],
   "source": [
    "def bfs_tree(n):\n",
    "    npv = [n]\n",
    "    n_v = []\n",
    "    c = initialize_costs(tamaño, inicio)\n",
    "    while len(npv) > 0:\n",
    "        c_n = npv.pop(0)\n",
    "        n_v.append(c_n)\n",
    "        n_s = successors(c_n, n_v)\n",
    "        update_costs(c, c_n, n_s)\n",
    "        npv.extend(n_s)\n",
    "    return c\n",
    "bfs = bfs_tree(inicio)\n",
    "bfs"
   ]
  },
  {
   "cell_type": "markdown",
   "metadata": {},
   "source": [
    "6.- Measure the number of steps required to find the goal node and save the result in the bfs_v variable.\n",
    "\n",
    "  > **Hints**  \n",
    "  > Re define the `bfs_tree` and add a step counter variable in order to print the number of steps at the end of the search\n",
    "  \n",
    "Output\n",
    "\n",
    "```\n",
    "End node has been reached in 110 steps\n",
    "[[6, 5, 4, 5, 6, 7, 8, 9, 10],\n",
    " [5, 4, 3, 4, 5, 6, 7, 8, 9],\n",
    " [4, 3, 2, inf, inf, inf, inf, inf, 10],\n",
    " [3, 2, 1, 2, inf, 12, 13, 12, 11],\n",
    " [2, 1, 0, 1, inf, 11, inf, 13, inf],\n",
    " [3, inf, inf, inf, inf, 10, inf, 14, 15],\n",
    " [4, 5, 6, 7, 8, 9, inf, 15, 16]]\n",
    "```"
   ]
  },
  {
   "cell_type": "code",
   "execution_count": 12,
   "metadata": {},
   "outputs": [
    {
     "name": "stdout",
     "output_type": "stream",
     "text": [
      "Se ha alcanzado el nodo final en  110  pasos\n"
     ]
    },
    {
     "data": {
      "text/plain": [
       "[[6, 5, 4, 5, 6, 7, 8, 9, 10],\n",
       " [5, 4, 3, 4, 5, 6, 7, 8, 9],\n",
       " [4, 3, 2, inf, inf, inf, inf, inf, 10],\n",
       " [3, 2, 1, 2, inf, 12, 13, 12, 11],\n",
       " [2, 1, 0, 1, inf, 11, inf, 13, inf],\n",
       " [3, inf, inf, inf, inf, 10, inf, 14, 15],\n",
       " [4, 5, 6, 7, 8, 9, inf, 15, 16]]"
      ]
     },
     "execution_count": 12,
     "metadata": {},
     "output_type": "execute_result"
    }
   ],
   "source": [
    "def bfs_tree_verbose(n):\n",
    "    npv = [n]\n",
    "    n_v = []\n",
    "    c = initialize_costs(tamaño, inicio)\n",
    "    c_p = 0\n",
    "    while len(npv) > 0:\n",
    "        c_p += 1\n",
    "        c_n = npv.pop(0)\n",
    "        n_v.append(c_n)\n",
    "        s_n = successors(c_n, n_v)\n",
    "        update_costs(c, c_n, s_n)\n",
    "        npv.extend(s_n)\n",
    "        if c_n == fin:\n",
    "            print('Se ha alcanzado el nodo final en ', c_p, ' pasos')\n",
    "            return c\n",
    "    return c\n",
    "bfs_v = bfs_tree_verbose(inicio)\n",
    "bfs_v"
   ]
  },
  {
   "cell_type": "markdown",
   "metadata": {},
   "source": [
    "In this exercise, we used the BFS algorithm to find the shortest path to the goal. It took BFS 110 steps to reach the goal. Now, we will learn about an algorithm that can find the shortest path from the start node to the goal node: the A* algorithm."
   ]
  },
  {
   "cell_type": "code",
   "execution_count": null,
   "metadata": {},
   "outputs": [],
   "source": []
  }
 ],
 "metadata": {
  "kernelspec": {
   "display_name": "Python 3",
   "language": "python",
   "name": "python3"
  },
  "language_info": {
   "codemirror_mode": {
    "name": "ipython",
    "version": 3
   },
   "file_extension": ".py",
   "mimetype": "text/x-python",
   "name": "python",
   "nbconvert_exporter": "python",
   "pygments_lexer": "ipython3",
   "version": "3.8.5"
  }
 },
 "nbformat": 4,
 "nbformat_minor": 4
}
